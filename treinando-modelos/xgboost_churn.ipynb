{
 "cells": [
  {
   "attachments": {},
   "cell_type": "markdown",
   "metadata": {},
   "source": [
    "# Usando o algoritmo XGBoost to prever quando uma empresa irá perder um cliente\n",
    "\n",
    "## Ambiente recomendado\n",
    "\n",
    "- Image: Data Science\n",
    "- Kernel: Python 3\n",
    "- Instance type: ml.t3.medium\n",
    "\n",
    "## Background\n",
    "\n",
    "Esse notebook é utilizado para treinar um modelo que prevê as chances de uma empresa perder um cliente. As entradas são os dados do cliente de um provedor de celular, com o objetivo 'Churn?' que diz se o cliente abandonou ou não a empresa. Esse notebook é adaptado dos [exemplos com SageMaker](https://github.com/aws/amazon-sagemaker-examples/blob/main/introduction_to_applying_machine_learning/xgboost_customer_churn/xgboost_customer_churn.ipynb)"
   ]
  },
  {
   "attachments": {},
   "cell_type": "markdown",
   "metadata": {
    "tags": []
   },
   "source": [
    "## Inicializando o Ambiente e variáveis globais"
   ]
  },
  {
   "cell_type": "code",
   "execution_count": null,
   "metadata": {
    "isConfigCell": true,
    "tags": [
     "parameters"
    ]
   },
   "outputs": [],
   "source": [
    "# Import libraries\n",
    "import boto3\n",
    "import re\n",
    "import pandas as pd\n",
    "import numpy as np\n",
    "import os\n",
    "\n",
    "import sagemaker\n",
    "from sagemaker import get_execution_role\n",
    "from sagemaker.serializers import CSVSerializer\n",
    "from sagemaker.inputs import TrainingInput\n",
    "\n",
    "# Get the SageMaker session and the execution role from the SageMaker domain\n",
    "sess = sagemaker.Session()\n",
    "role = get_execution_role()\n",
    "\n",
    "bucket = '<name-of-your-bucket>' # Update with the name of a bucket that is already created in S3\n",
    "prefix = 'demo-xgboost' # The name of the folder that will be created in the S3 bucket"
   ]
  },
  {
   "attachments": {},
   "cell_type": "markdown",
   "metadata": {},
   "source": [
    "---\n",
    "## Dataset\n",
    "\n",
    "Para essa atividade, os dados já foram preparados e também separados em dois arquivos: `train.csv` (usado para treinar o modelo) e `validation.csv` (usado para validar como o modelo se porta).\n",
    "\n",
    "\n",
    "Vamos configurar os arquivos locais e fazer upload para o bucket S3, para que o SageMaker possa utilizar esses dados no processamento de jobs."
   ]
  },
  {
   "cell_type": "code",
   "execution_count": null,
   "metadata": {
    "tags": []
   },
   "outputs": [],
   "source": [
    "boto3.Session().resource('s3').Bucket(bucket).Object(os.path.join(prefix, 'train/train.csv')).upload_file('train.csv')\n",
    "boto3.Session().resource('s3').Bucket(bucket).Object(os.path.join(prefix, 'validation/validation.csv')).upload_file('validation.csv')"
   ]
  },
  {
   "attachments": {},
   "cell_type": "markdown",
   "metadata": {},
   "source": [
    "---\n",
    "## Treinamento\n",
    "\n",
    "Agora que nós temos nossos dados armazenados no S3, nós podemos começar o treinamento. Nessa seção, devemos especificar três coisas importantes: onde nossos dados de treinamento estão, o caminho para o container do algoritmo (ECR) que irá montar o modelo, e o algoritmo que vamos utilizar (junto com seus hiperparâmetros). Mais informações sobre o algoritmo XGBoost podem ser encontrados [aqui](https://docs.aws.amazon.com/sagemaker/latest/dg/xgboost_hyperparameters.html).\n"
   ]
  },
  {
   "cell_type": "code",
   "execution_count": null,
   "metadata": {
    "tags": []
   },
   "outputs": [],
   "source": [
    "# The location of our training and validation data in S3\n",
    "s3_input_train = TrainingInput(\n",
    "    s3_data='s3://{}/{}/train'.format(bucket, prefix), content_type='csv'\n",
    ")\n",
    "s3_input_validation = TrainingInput(\n",
    "    s3_data='s3://{}/{}/validation/'.format(bucket, prefix), content_type='csv'\n",
    ")"
   ]
  },
  {
   "cell_type": "code",
   "execution_count": null,
   "metadata": {
    "tags": []
   },
   "outputs": [],
   "source": [
    "# The location of the XGBoost container version 1.5-1 (an AWS-managed container)\n",
    "container = sagemaker.image_uris.retrieve('xgboost', sess.boto_region_name, '1.5-1')"
   ]
  },
  {
   "cell_type": "code",
   "execution_count": null,
   "metadata": {
    "tags": []
   },
   "outputs": [],
   "source": [
    "# Initialize hyperparameters\n",
    "hyperparameters = {\n",
    "                    'max_depth':'5',\n",
    "                    'eta':'0.2',\n",
    "                    'gamma':'4',\n",
    "                    'min_child_weight':'6',\n",
    "                    'subsample':'0.8',\n",
    "                    'objective':'binary:logistic',\n",
    "                    'eval_metric':'error',\n",
    "                    'num_round':'100'}\n",
    "\n",
    "# Output path where the trained model will be saved\n",
    "output_path = 's3://{}/{}/output'.format(bucket, prefix)\n",
    "\n",
    "# Set up the Estimator, which is training job\n",
    "xgb = sagemaker.estimator.Estimator(image_uri=container, \n",
    "                                    hyperparameters=hyperparameters,\n",
    "                                    role=role,\n",
    "                                    instance_count=1, \n",
    "                                    instance_type='ml.m4.xlarge', \n",
    "                                    output_path=output_path,\n",
    "                                    sagemaker_session=sess)"
   ]
  },
  {
   "cell_type": "code",
   "execution_count": null,
   "metadata": {
    "tags": []
   },
   "outputs": [],
   "source": [
    "# \"fit\" executes the training job\n",
    "xgb.fit({'train': s3_input_train, 'validation': s3_input_validation}) "
   ]
  }
 ],
 "metadata": {
  "celltoolbar": "Tags",
  "instance_type": "ml.t3.medium",
  "kernelspec": {
   "display_name": "Python 3 (Data Science)",
   "language": "python",
   "name": "python3__SAGEMAKER_INTERNAL__arn:aws:sagemaker:us-west-2:236514542706:image/datascience-1.0"
  },
  "language_info": {
   "codemirror_mode": {
    "name": "ipython",
    "version": 3
   },
   "file_extension": ".py",
   "mimetype": "text/x-python",
   "name": "python",
   "nbconvert_exporter": "python",
   "pygments_lexer": "ipython3",
   "version": "3.7.10"
  },
  "notice": "Copyright 2017 Amazon.com, Inc. or its affiliates. All Rights Reserved.  Licensed under the Apache License, Version 2.0 (the \"License\"). You may not use this file except in compliance with the License. A copy of the License is located at http://aws.amazon.com/apache2.0/ or in the \"license\" file accompanying this file. This file is distributed on an \"AS IS\" BASIS, WITHOUT WARRANTIES OR CONDITIONS OF ANY KIND, either express or implied. See the License for the specific language governing permissions and limitations under the License."
 },
 "nbformat": 4,
 "nbformat_minor": 4
}
